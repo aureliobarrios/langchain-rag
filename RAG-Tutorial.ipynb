{
 "cells": [
  {
   "cell_type": "markdown",
   "id": "5016f49e",
   "metadata": {},
   "source": [
    "Note: This jupyter notebook was adapted from my initial work done on a Google Collab space, therefore some implementations reflect that.\n",
    "\n",
    "### Installations\n",
    "\n",
    "The following are the necessary installations required to run this notebook.\n",
    "\n",
    "Make sure you have the `requirements.txt` file!!!\n",
    "\n",
    "Change the path accordingly to where your file is stored\n",
    "\n",
    "#### Google Collab Steps\n",
    "\n",
    "**Mounting Google Drive**\n",
    "\n",
    "If on a Google Collab space, ensure to mount your Google drive to the Jupyter Notebook.\n",
    "\n",
    "```python\n",
    "from google.colab import drive\n",
    "\n",
    "drive.mount('/content/drive', force_remount=True)\n",
    "```\n",
    "\n",
    "**Install Requirements**\n",
    "\n",
    "```python\n",
    "%pip install -qU -r /content/requirements.txt\n",
    "```"
   ]
  },
  {
   "cell_type": "markdown",
   "id": "6b26b60c",
   "metadata": {},
   "source": [
    "#### Launching Xterm\n",
    "\n",
    "The following are steps that will be used to launch xterm"
   ]
  },
  {
   "cell_type": "markdown",
   "id": "fe234526",
   "metadata": {},
   "source": []
  }
 ],
 "metadata": {
  "kernelspec": {
   "display_name": "langchainVENV (3.8.5)",
   "language": "python",
   "name": "python3"
  },
  "language_info": {
   "name": "python",
   "version": "3.8.5"
  }
 },
 "nbformat": 4,
 "nbformat_minor": 5
}
