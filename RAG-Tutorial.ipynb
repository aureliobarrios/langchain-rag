{
 "cells": [
  {
   "cell_type": "markdown",
   "id": "5016f49e",
   "metadata": {},
   "source": [
    "Note: This jupyter notebook was adapted from my initial work done on a Google Collab space, therefore some implementations reflect that.\n",
    "\n",
    "### Installations\n",
    "\n",
    "The following are the necessary installations required to run this notebook.\n",
    "\n",
    "Make sure you have the `requirements.txt` file!!!\n",
    "\n",
    "Change the path accordingly to where your file is stored\n",
    "\n",
    "```python\n",
    "from google.colab import drive\n",
    "\n",
    "drive.mount('/content/drive', force_remount=True)\n",
    "```"
   ]
  }
 ],
 "metadata": {
  "kernelspec": {
   "display_name": "langchainVENV (3.8.5)",
   "language": "python",
   "name": "python3"
  },
  "language_info": {
   "name": "python",
   "version": "3.8.5"
  }
 },
 "nbformat": 4,
 "nbformat_minor": 5
}
