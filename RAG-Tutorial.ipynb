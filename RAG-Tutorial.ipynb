{
 "cells": [
  {
   "cell_type": "markdown",
   "id": "5016f49e",
   "metadata": {},
   "source": [
    "Note: This jupyter notebook was adapted from my initial work done on a Google Collab space, therefore some implementations reflect that.\n",
    "\n",
    "### Installations\n",
    "\n",
    "The following are the necessary installations required to run this notebook.\n",
    "\n",
    "Make sure you have the `requirements.txt` file!!!\n",
    "\n",
    "Change the path accordingly to where your file is stored\n",
    "\n",
    "#### Google Collab Steps\n",
    "\n",
    "**Mounting Google Drive**\n",
    "\n",
    "If on a Google Collab space, ensure to mount your Google drive to the Jupyter Notebook.\n",
    "\n",
    "```python\n",
    "from google.colab import drive\n",
    "\n",
    "drive.mount('/content/drive', force_remount=True)\n",
    "```\n",
    "\n",
    "**Install Requirements**\n",
    "\n",
    "```python\n",
    "%pip install -qU -r /content/requirements.txt\n",
    "```"
   ]
  },
  {
   "cell_type": "markdown",
   "id": "6b26b60c",
   "metadata": {},
   "source": [
    "#### Launching Xterm\n",
    "\n",
    "Xterm is a tool we will use to download open source Large Language Models that we can interact with.\n",
    "\n",
    "Please follow the following instructions **carefully**\n",
    "\n",
    "1. Run the code cell block\n",
    "\n",
    "2. After running the cell block you should be directed to the Xterm terminal\n",
    "\n",
    "3. Enter the following command in the console: `curl https://ollama.ai/install.sh | sh`\n",
    "\n",
    "4. After succesfully downloading ollama we will begin to run the ollama server using the command `ollama serve &`\n",
    "\n",
    "5. Back in the terminal in the space available type in the command `ollama pull llama3`\n",
    "\n",
    "6. Once the downloading is complete leave the terminal as is, you are now hosting the llama3 model through ollama and should be able to access it in the code steps"
   ]
  },
  {
   "cell_type": "markdown",
   "id": "fe234526",
   "metadata": {},
   "source": []
  }
 ],
 "metadata": {
  "kernelspec": {
   "display_name": "langchainVENV (3.8.5)",
   "language": "python",
   "name": "python3"
  },
  "language_info": {
   "name": "python",
   "version": "3.8.5"
  }
 },
 "nbformat": 4,
 "nbformat_minor": 5
}
